{
 "cells": [
  {
   "cell_type": "code",
   "execution_count": 1,
   "id": "20ee6bb8-e4e2-4807-b6df-c55d4b431786",
   "metadata": {},
   "outputs": [
    {
     "name": "stderr",
     "output_type": "stream",
     "text": [
      "C:\\Users\\User\\anaconda3\\lib\\site-packages\\numpy\\_distributor_init.py:30: UserWarning: loaded more than 1 DLL from .libs:\n",
      "C:\\Users\\User\\anaconda3\\lib\\site-packages\\numpy\\.libs\\libopenblas.GK7GX5KEQ4F6UYO3P26ULGBQYHGQO7J4.gfortran-win_amd64.dll\n",
      "C:\\Users\\User\\anaconda3\\lib\\site-packages\\numpy\\.libs\\libopenblas.PYQHXLVVQ7VESDPUVUADXEVJOBGHJPAY.gfortran-win_amd64.dll\n",
      "  warnings.warn(\"loaded more than 1 DLL from .libs:\"\n"
     ]
    }
   ],
   "source": [
    "import os\n",
    "import glob\n",
    "import json\n",
    "import pickle\n",
    "import numpy as np\n",
    "import pandas as pd\n",
    "\n",
    "import torch\n",
    "\n",
    "from sklearn.model_selection import train_test_split\n",
    "from sklearn.metrics import roc_auc_score\n",
    "from sklearn.ensemble import GradientBoostingClassifier\n",
    "from catboost import CatBoostClassifier\n",
    "from sklearn.preprocessing import PolynomialFeatures\n",
    "from sklearn.pipeline import Pipeline"
   ]
  },
  {
   "cell_type": "code",
   "execution_count": 15,
   "id": "bc8329d3-6650-4486-aaaf-a767ed419bcf",
   "metadata": {
    "tags": []
   },
   "outputs": [],
   "source": [
    "paths = [\n",
    "    *glob.glob('C:/Users/User/Desktop/MIPT_Alpha/results/test*'),\n",
    "    *glob.glob('C:/Users/User/Desktop/MIPT_Alpha/kaggle_checkpoints/test*'),\n",
    "    *glob.glob('C:/Users/User/Desktop/MIPT_Alpha/colab_results/test*')\n",
    "]"
   ]
  },
  {
   "cell_type": "code",
   "execution_count": 17,
   "id": "3d680655-23bf-493a-9d5c-29d42617c544",
   "metadata": {},
   "outputs": [],
   "source": [
    "test_scores = []\n",
    "for file_name in paths:\n",
    "    with open(file_name, 'rb') as f:\n",
    "        test_score = pickle.load(f)\n",
    "        test_scores.append(test_score)"
   ]
  },
  {
   "cell_type": "code",
   "execution_count": 35,
   "id": "b79b0c53-6ba1-41f3-9437-47176b166973",
   "metadata": {},
   "outputs": [
    {
     "name": "stderr",
     "output_type": "stream",
     "text": [
      "C:\\Users\\User\\anaconda3\\lib\\site-packages\\numpy\\lib\\arraysetops.py:583: FutureWarning: elementwise comparison failed; returning scalar instead, but in the future will perform elementwise comparison\n",
      "  mask |= (ar1 == a)\n"
     ]
    }
   ],
   "source": [
    "data_scores = torch.stack(test_scores).T\n",
    "target = pd.read_csv('C:/Users/User/Desktop/MIPT_Alpha/data/train_target.csv', index_col=0)[-data_scores.shape[0]:]['flag'].to_numpy()"
   ]
  },
  {
   "cell_type": "code",
   "execution_count": 71,
   "id": "01e1e07a-c39d-4bf2-a756-0d33156dd7f5",
   "metadata": {},
   "outputs": [
    {
     "data": {
      "text/plain": [
       "{'test_kaggle_2_.pkl': 0.755813007017504,\n",
       " 'test_colab_2.pkl': 0.7581369784436539,\n",
       " 'test_kaggle_2.pkl': 0.7588360703600615,\n",
       " 'test_kaggle_3.pkl': 0.7592574074117068,\n",
       " 'test_kaggle_1_.pkl': 0.7605361520350746,\n",
       " 'test_pc_1.pkl': 0.7605560073987289,\n",
       " 'test_colab_1.pkl': 0.7607419405137302,\n",
       " 'test_kaggle_1.pkl': 0.7618003578635422,\n",
       " 'test_pc_2.pkl': 0.7619224018929069}"
      ]
     },
     "execution_count": 71,
     "metadata": {},
     "output_type": "execute_result"
    }
   ],
   "source": [
    "scores_dict = dict()\n",
    "for i, score in enumerate(test_scores):\n",
    "    scores_dict[paths[i][paths[i].find('\\\\') + 1:]] = roc_auc_score(target, score)\n",
    "dict(sorted(scores_dict.items(), key=lambda x: x[1]))"
   ]
  },
  {
   "cell_type": "code",
   "execution_count": 40,
   "id": "8fee462b-1c20-48fb-9f28-6cb5dc6980b3",
   "metadata": {},
   "outputs": [],
   "source": [
    "X_train, X_test, y_train, y_test = train_test_split(data_scores, target, shuffle=True, stratify=target)"
   ]
  },
  {
   "cell_type": "code",
   "execution_count": 72,
   "id": "1e53045d-ed19-4b6f-ae58-c272cf110446",
   "metadata": {},
   "outputs": [
    {
     "data": {
      "text/plain": [
       "(0.032456296296296296, 0.032462222222222226)"
      ]
     },
     "execution_count": 72,
     "metadata": {},
     "output_type": "execute_result"
    }
   ],
   "source": [
    "y_train.sum() / y_train.size, y_test.sum() / y_test.size"
   ]
  },
  {
   "cell_type": "code",
   "execution_count": 85,
   "id": "47821c80-cc5e-4b55-a2cc-f27224cd16c8",
   "metadata": {},
   "outputs": [],
   "source": [
    "poly = PolynomialFeatures(degree=3, include_bias=False, interaction_only=True)\n",
    "X_train_poly = poly.fit_transform(X_train)\n",
    "X_test_poly = poly.transform(X_test)"
   ]
  },
  {
   "cell_type": "code",
   "execution_count": 88,
   "id": "a837aaa3-2de6-49b5-bba9-34851081b2cb",
   "metadata": {},
   "outputs": [],
   "source": [
    "gbc = GradientBoostingClassifier(max_depth=2)\n",
    "gbc = gbc.fit(X_train_poly, y_train)\n",
    "train_preds = gbc.predict_proba(X_train_poly)\n",
    "test_preds = gbc.predict_proba(X_test_poly)"
   ]
  },
  {
   "cell_type": "code",
   "execution_count": 89,
   "id": "a15bcc47-0ee9-42db-8405-a465452d4c47",
   "metadata": {},
   "outputs": [
    {
     "name": "stdout",
     "output_type": "stream",
     "text": [
      "train 0.7704748068205702\n",
      "test 0.7713819377573099\n"
     ]
    }
   ],
   "source": [
    "print('train',  roc_auc_score(y_train, train_preds[:, 1]))\n",
    "print('test',  roc_auc_score(y_test, test_preds[:, 1]))"
   ]
  },
  {
   "cell_type": "code",
   "execution_count": 91,
   "id": "7d17c910-d19e-43f5-aeaa-bed224efc093",
   "metadata": {},
   "outputs": [],
   "source": [
    "predict_paths = [\n",
    "    *glob.glob('C:/Users/User/Desktop/MIPT_Alpha/results/predict*'),\n",
    "    *glob.glob('C:/Users/User/Desktop/MIPT_Alpha/kaggle_checkpoints/predict*'),\n",
    "    *glob.glob('C:/Users/User/Desktop/MIPT_Alpha/colab_results/predict*')\n",
    "]"
   ]
  },
  {
   "cell_type": "code",
   "execution_count": 99,
   "id": "76deaf94-8973-4ab7-b5a1-4852085b6b2d",
   "metadata": {},
   "outputs": [],
   "source": [
    "predict_scores = []\n",
    "for file_name in predict_paths:\n",
    "    with open(file_name, 'rb') as f:\n",
    "        predict_score = pickle.load(f)\n",
    "        predict_scores.append(predict_score)\n",
    "        \n",
    "predict_scores = torch.stack(predict_scores).T"
   ]
  },
  {
   "cell_type": "code",
   "execution_count": 103,
   "id": "d9149257-5218-457d-9913-d699244a7d8f",
   "metadata": {},
   "outputs": [],
   "source": [
    "X_predict_poly = poly.transform(predict_scores)\n",
    "preds = gbc.predict_proba(X_predict_poly)[:, 1]"
   ]
  },
  {
   "cell_type": "code",
   "execution_count": 115,
   "id": "383b8d35-2fbc-4bd0-9ca8-e55689832d14",
   "metadata": {},
   "outputs": [],
   "source": [
    "sample_submission = pd.read_csv('C:/Users/User/Desktop/MIPT_Alpha/sample_submission.csv')"
   ]
  },
  {
   "cell_type": "code",
   "execution_count": 107,
   "id": "2e761ea9-2744-4417-a404-21aef87a0562",
   "metadata": {},
   "outputs": [],
   "source": [
    "sample_submission['score'] = preds"
   ]
  },
  {
   "cell_type": "code",
   "execution_count": 112,
   "id": "b0d53fae-adc6-4da7-876c-cb718a2d4dba",
   "metadata": {},
   "outputs": [],
   "source": [
    "sample_submission.to_csv('C:/Users/User/Desktop/MIPT_Alpha/my_submission.csv', index=False)"
   ]
  },
  {
   "cell_type": "code",
   "execution_count": 113,
   "id": "b290b5a0-2e9b-4ab6-a261-a5edc37da869",
   "metadata": {},
   "outputs": [],
   "source": [
    "my_submission = pd.read_csv('C:/Users/User/Desktop/MIPT_Alpha/my_submission.csv')"
   ]
  },
  {
   "cell_type": "code",
   "execution_count": 117,
   "id": "afc40224-93e3-4119-9a37-d0998c205d46",
   "metadata": {},
   "outputs": [
    {
     "data": {
      "text/html": [
       "<div>\n",
       "<style scoped>\n",
       "    .dataframe tbody tr th:only-of-type {\n",
       "        vertical-align: middle;\n",
       "    }\n",
       "\n",
       "    .dataframe tbody tr th {\n",
       "        vertical-align: top;\n",
       "    }\n",
       "\n",
       "    .dataframe thead th {\n",
       "        text-align: right;\n",
       "    }\n",
       "</style>\n",
       "<table border=\"1\" class=\"dataframe\">\n",
       "  <thead>\n",
       "    <tr style=\"text-align: right;\">\n",
       "      <th></th>\n",
       "      <th>id</th>\n",
       "      <th>score</th>\n",
       "    </tr>\n",
       "  </thead>\n",
       "  <tbody>\n",
       "    <tr>\n",
       "      <th>0</th>\n",
       "      <td>3000000</td>\n",
       "      <td>0.035091</td>\n",
       "    </tr>\n",
       "    <tr>\n",
       "      <th>1</th>\n",
       "      <td>3000001</td>\n",
       "      <td>0.033321</td>\n",
       "    </tr>\n",
       "    <tr>\n",
       "      <th>2</th>\n",
       "      <td>3000002</td>\n",
       "      <td>0.016121</td>\n",
       "    </tr>\n",
       "    <tr>\n",
       "      <th>3</th>\n",
       "      <td>3000003</td>\n",
       "      <td>0.023992</td>\n",
       "    </tr>\n",
       "    <tr>\n",
       "      <th>4</th>\n",
       "      <td>3000004</td>\n",
       "      <td>0.006596</td>\n",
       "    </tr>\n",
       "    <tr>\n",
       "      <th>...</th>\n",
       "      <td>...</td>\n",
       "      <td>...</td>\n",
       "    </tr>\n",
       "    <tr>\n",
       "      <th>499995</th>\n",
       "      <td>3499995</td>\n",
       "      <td>0.040455</td>\n",
       "    </tr>\n",
       "    <tr>\n",
       "      <th>499996</th>\n",
       "      <td>3499996</td>\n",
       "      <td>0.020900</td>\n",
       "    </tr>\n",
       "    <tr>\n",
       "      <th>499997</th>\n",
       "      <td>3499997</td>\n",
       "      <td>0.024475</td>\n",
       "    </tr>\n",
       "    <tr>\n",
       "      <th>499998</th>\n",
       "      <td>3499998</td>\n",
       "      <td>0.013526</td>\n",
       "    </tr>\n",
       "    <tr>\n",
       "      <th>499999</th>\n",
       "      <td>3499999</td>\n",
       "      <td>0.017086</td>\n",
       "    </tr>\n",
       "  </tbody>\n",
       "</table>\n",
       "<p>500000 rows × 2 columns</p>\n",
       "</div>"
      ],
      "text/plain": [
       "             id     score\n",
       "0       3000000  0.035091\n",
       "1       3000001  0.033321\n",
       "2       3000002  0.016121\n",
       "3       3000003  0.023992\n",
       "4       3000004  0.006596\n",
       "...         ...       ...\n",
       "499995  3499995  0.040455\n",
       "499996  3499996  0.020900\n",
       "499997  3499997  0.024475\n",
       "499998  3499998  0.013526\n",
       "499999  3499999  0.017086\n",
       "\n",
       "[500000 rows x 2 columns]"
      ]
     },
     "execution_count": 117,
     "metadata": {},
     "output_type": "execute_result"
    }
   ],
   "source": [
    "my_submission"
   ]
  },
  {
   "cell_type": "markdown",
   "id": "856ca662-ff01-4cfd-bf14-d48ef955db02",
   "metadata": {},
   "source": [
    "*****************"
   ]
  },
  {
   "cell_type": "markdown",
   "id": "e75f25a6-b904-4edb-98b3-261b206bbaac",
   "metadata": {},
   "source": [
    "{'test_kaggle_2_.pkl': 0.755813007017504,\n",
    " 'test_colab_2.pkl': 0.7581369784436539,\n",
    " 'test_kaggle_2.pkl': 0.7588360703600615,\n",
    " 'test_kaggle_3.pkl': 0.7592574074117068,\n",
    " 'test_kaggle_1_.pkl': 0.7605361520350746,\n",
    " 'test_pc_1.pkl': 0.7605560073987289,\n",
    " 'test_colab_1.pkl': 0.7607419405137302,\n",
    " 'test_kaggle_1.pkl': 0.7618003578635422,\n",
    " 'test_pc_2.pkl': 0.7619224018929069}\n",
    "\n",
    "gbc = GradientBoostingClassifier(max_depth=2)\n",
    "\n",
    "train 0.7695057180174542  \n",
    "test 0.7710640248008458"
   ]
  },
  {
   "cell_type": "markdown",
   "id": "a0e67a8c-bfc0-4495-8c8a-d20bfc38d7ab",
   "metadata": {},
   "source": [
    "*******************************"
   ]
  },
  {
   "cell_type": "markdown",
   "id": "cf7bb747-2fc0-4a34-aece-30b33658f1ca",
   "metadata": {},
   "source": [
    "{'test_kaggle_2_.pkl': 0.755813007017504,\n",
    " 'test_colab_2.pkl': 0.7581369784436539,\n",
    " 'test_kaggle_2.pkl': 0.7588360703600615,\n",
    " 'test_kaggle_3.pkl': 0.7592574074117068,\n",
    " 'test_kaggle_1_.pkl': 0.7605361520350746,\n",
    " 'test_pc_1.pkl': 0.7605560073987289,\n",
    " 'test_colab_1.pkl': 0.7607419405137302,\n",
    " 'test_kaggle_1.pkl': 0.7618003578635422,\n",
    " 'test_pc_2.pkl': 0.7619224018929069}\n",
    " \n",
    " poly = PolynomialFeatures(degree=3, include_bias=False, interaction_only=True)  \n",
    " gbc = GradientBoostingClassifier(max_depth=2)\n",
    " \n",
    "train 0.7704748068205702  \n",
    "test 0.7713819377573099"
   ]
  },
  {
   "cell_type": "code",
   "execution_count": null,
   "id": "68f3b7fc-8593-449e-b90e-7d667f64f6cb",
   "metadata": {},
   "outputs": [],
   "source": []
  }
 ],
 "metadata": {
  "kernelspec": {
   "display_name": "Python 3 (ipykernel)",
   "language": "python",
   "name": "python3"
  },
  "language_info": {
   "codemirror_mode": {
    "name": "ipython",
    "version": 3
   },
   "file_extension": ".py",
   "mimetype": "text/x-python",
   "name": "python",
   "nbconvert_exporter": "python",
   "pygments_lexer": "ipython3",
   "version": "3.8.8"
  }
 },
 "nbformat": 4,
 "nbformat_minor": 5
}
